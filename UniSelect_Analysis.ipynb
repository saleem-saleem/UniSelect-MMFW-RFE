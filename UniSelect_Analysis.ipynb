# Import necessary libraries
import numpy as np
import pandas as pd
import matplotlib.pyplot as plt
import seaborn as sns
from sklearn.model_selection import train_test_split
from sklearn.ensemble import RandomForestClassifier
from sklearn.metrics import accuracy_score, classification_report
from uniselect import UniSelect  # Ensure UniSelect is implemented in uniselect.py

# Load dataset
df = pd.read_csv("dataset.csv")  # Replace with actual dataset path
X = df.drop(columns=["target"])  # Features
y = df["target"]  # Target variable

# Split data into train and test sets
X_train, X_test, y_train, y_test = train_test_split(X, y, test_size=0.2, random_state=42)

# Initialize and apply UniSelect feature selection
selector = UniSelect(n_features_to_select=10)  # Select top 10 features
X_train_selected = selector.fit_transform(X_train, y_train)
X_test_selected = selector.transform(X_test)

# Print selected features
print("Selected Features:", list(selector.selected_features))

# Train a classifier on the selected features
clf = RandomForestClassifier(n_estimators=100, random_state=42)
clf.fit(X_train_selected, y_train)
y_pred = clf.predict(X_test_selected)

# Evaluate model performance
accuracy = accuracy_score(y_test, y_pred)
print("Model Accuracy:", accuracy)
print("Classification Report:\n", classification_report(y_test, y_pred))

# Feature importance visualization
feature_importances = pd.Series(clf.feature_importances_, index=selector.selected_features)
feature_importances.sort_values(ascending=False).plot(kind="bar", figsize=(10, 5))
plt.title("Feature Importance After UniSelect")
plt.show()

# Correlation heatmap of selected features
plt.figure(figsize=(10, 8))
sns.heatmap(X_train_selected.corr(), annot=True, cmap="coolwarm", fmt=".2f")
plt.title("Correlation Matrix of Selected Features")
plt.show()




Features of This Notebook:
✅ Loads and preprocesses data
✅ Applies UniSelect for feature selection
✅ Trains and evaluates a classifier
✅ Visualizes feature importance
✅ Plots correlation matrix of selected features

Make sure you have uniselect.py implemented and saved in the same directory.
