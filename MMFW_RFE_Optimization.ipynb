# Import necessary libraries
import numpy as np
import pandas as pd
import matplotlib.pyplot as plt
import seaborn as sns
from sklearn.model_selection import train_test_split
from sklearn.ensemble import RandomForestClassifier
from sklearn.feature_selection import RFE
from sklearn.metrics import accuracy_score, classification_report
from mmfw_rfe import MMFW_RFE  # Ensure MMFW_RFE is implemented in mmfw_rfe.py

# Load dataset
df = pd.read_csv("dataset.csv")  # Replace with actual dataset path
X = df.drop(columns=["target"])  # Features
y = df["target"]  # Target variable

# Split data into train and test sets
X_train, X_test, y_train, y_test = train_test_split(X, y, test_size=0.2, random_state=42)

# Initialize and apply MMFW_RFE feature selection
mmfw_rfe_selector = MMFW_RFE(n_features_to_select=10)  # Select top 10 features
X_train_selected = mmfw_rfe_selector.fit_transform(X_train, y_train)
X_test_selected = mmfw_rfe_selector.transform(X_test)

# Print selected features
print("Selected Features:", list(mmfw_rfe_selector.selected_features))

# Train a classifier on the selected features
clf = RandomForestClassifier(n_estimators=100, random_state=42)
clf.fit(X_train_selected, y_train)
y_pred = clf.predict(X_test_selected)

# Evaluate model performance
accuracy = accuracy_score(y_test, y_pred)
print("Model Accuracy:", accuracy)
print("Classification Report:\n", classification_report(y_test, y_pred))

# Feature importance visualization
feature_importances = pd.Series(clf.feature_importances_, index=mmfw_rfe_selector.selected_features)
feature_importances.sort_values(ascending=False).plot(kind="bar", figsize=(10, 5))
plt.title("Feature Importance After MMFW_RFE")
plt.show()

# Correlation heatmap of selected features
plt.figure(figsize=(10, 8))
sns.heatmap(pd.DataFrame(X_train_selected).corr(), annot=True, cmap="coolwarm", fmt=".2f")
plt.title("Correlation Matrix of Selected Features")
plt.show()



Features of This Notebook:
✅ Loads and preprocesses data
✅ Applies MMFW_RFE for feature selection
✅ Trains and evaluates a classifier
✅ Visualizes feature importance
✅ Plots correlation matrix of selected features

Make sure mmfw_rfe.py is properly implemented and available in the same directory.


